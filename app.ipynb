{
  "nbformat": 4,
  "nbformat_minor": 0,
  "metadata": {
    "colab": {
      "provenance": [],
      "authorship_tag": "ABX9TyP930VEgpyC4D+7WhcLhVll",
      "include_colab_link": true
    },
    "kernelspec": {
      "name": "python3",
      "display_name": "Python 3"
    },
    "language_info": {
      "name": "python"
    }
  },
  "cells": [
    {
      "cell_type": "markdown",
      "metadata": {
        "id": "view-in-github",
        "colab_type": "text"
      },
      "source": [
        "<a href=\"https://colab.research.google.com/github/Charlene393/3D-house/blob/main/app.ipynb\" target=\"_parent\"><img src=\"https://colab.research.google.com/assets/colab-badge.svg\" alt=\"Open In Colab\"/></a>"
      ]
    },
    {
      "cell_type": "code",
      "execution_count": 3,
      "metadata": {
        "id": "p-HPjlU7f1pn"
      },
      "outputs": [],
      "source": [
        "#Import packages\n",
        "import streamlit as st\n",
        "from PyPDF2 import PdfReader\n",
        "import pandas as pd\n",
        "import base64\n",
        "import os"
      ]
    },
    {
      "cell_type": "code",
      "source": [
        "#Import for langchain\n",
        "\n",
        "from langchain.text_splitter import RecursiveCharacterTextSplitter\n",
        "from langchain_google_genai import GoogleGenerativeAIEmbeddings\n",
        "from langchain_community.vectorstores import FAISS\n",
        "from langchain_google_genai import ChatGoogleGenerativeAI\n",
        "from langchain.chains.question_answering import load_qa_chain\n",
        "from langchain.prompts import PromptTemplate\n",
        "\n",
        "from datetime import datetime\n"
      ],
      "metadata": {
        "id": "DRNW0CjFgzTb"
      },
      "execution_count": 4,
      "outputs": []
    },
    {
      "cell_type": "code",
      "source": [
        "#Get text chunks from pdf\n",
        "\n",
        "def get_text_chunks(pdf_document):\n",
        "  text =\"\"\n",
        "  for pdf in pdf_document:\n",
        "    pdf_reader = PdfReader(pdf)\n",
        "    for page in pdf_reader.pages:\n",
        "      text += page.extract_text()"
      ],
      "metadata": {
        "id": "jzXa_R5riM8u"
      },
      "execution_count": null,
      "outputs": []
    }
  ]
}